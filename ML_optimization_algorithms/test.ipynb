{
 "cells": [
  {
   "cell_type": "code",
   "execution_count": 1,
   "id": "3c1791bd",
   "metadata": {},
   "outputs": [],
   "source": [
    "import numpy as np"
   ]
  },
  {
   "cell_type": "code",
   "execution_count": null,
   "id": "d3ff9282",
   "metadata": {},
   "outputs": [],
   "source": [
    "np.random.seed(42) "
   ]
  },
  {
   "cell_type": "code",
   "execution_count": null,
   "id": "2ba40451",
   "metadata": {},
   "outputs": [
    {
     "name": "stdout",
     "output_type": "stream",
     "text": [
      "[[0.02058449]\n",
      " [0.96990985]\n",
      " [0.83244264]\n",
      " [0.21233911]\n",
      " [0.18182497]\n",
      " [0.18340451]\n",
      " [0.30424224]\n",
      " [0.52475643]\n",
      " [0.43194502]\n",
      " [0.29122914]]\n"
     ]
    }
   ],
   "source": [
    "X_data = np.random.rand(10, 1 )\n",
    "y_target = 5 * X_data + np.random.rand(10,1) #wx + b  \n",
    "# print(X_data)"
   ]
  },
  {
   "cell_type": "code",
   "execution_count": null,
   "id": "5ecc6ea6",
   "metadata": {},
   "outputs": [],
   "source": [
    "bias = 0.0\n",
    "weight = 0.0\n",
    "learning_rate = 0.1 "
   ]
  },
  {
   "cell_type": "code",
   "execution_count": null,
   "id": "448429fe",
   "metadata": {},
   "outputs": [],
   "source": []
  }
 ],
 "metadata": {
  "kernelspec": {
   "display_name": "conda-python",
   "language": "python",
   "name": "python3"
  },
  "language_info": {
   "codemirror_mode": {
    "name": "ipython",
    "version": 3
   },
   "file_extension": ".py",
   "mimetype": "text/x-python",
   "name": "python",
   "nbconvert_exporter": "python",
   "pygments_lexer": "ipython3",
   "version": "3.11.8"
  }
 },
 "nbformat": 4,
 "nbformat_minor": 5
}
